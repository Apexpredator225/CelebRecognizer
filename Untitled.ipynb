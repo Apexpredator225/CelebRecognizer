{
 "cells": [
  {
   "cell_type": "code",
   "execution_count": 1,
   "metadata": {},
   "outputs": [],
   "source": [
    "import pandas as pd\n",
    "import numpy as np\n",
    "import seaborn as sns\n",
    "import matplotlib.pyplot as plt"
   ]
  },
  {
   "cell_type": "code",
   "execution_count": 2,
   "metadata": {},
   "outputs": [
    {
     "data": {
      "text/html": [
       "<div>\n",
       "<style scoped>\n",
       "    .dataframe tbody tr th:only-of-type {\n",
       "        vertical-align: middle;\n",
       "    }\n",
       "\n",
       "    .dataframe tbody tr th {\n",
       "        vertical-align: top;\n",
       "    }\n",
       "\n",
       "    .dataframe thead th {\n",
       "        text-align: right;\n",
       "    }\n",
       "</style>\n",
       "<table border=\"1\" class=\"dataframe\">\n",
       "  <thead>\n",
       "    <tr style=\"text-align: right;\">\n",
       "      <th></th>\n",
       "      <th>timestamp</th>\n",
       "      <th>open</th>\n",
       "      <th>high</th>\n",
       "      <th>low</th>\n",
       "      <th>close</th>\n",
       "      <th>volume</th>\n",
       "    </tr>\n",
       "  </thead>\n",
       "  <tbody>\n",
       "    <tr>\n",
       "      <th>0</th>\n",
       "      <td>2017-01-02 09:15:00+05:30</td>\n",
       "      <td>892.55</td>\n",
       "      <td>893.10</td>\n",
       "      <td>891.05</td>\n",
       "      <td>893.0</td>\n",
       "      <td>7599.0</td>\n",
       "    </tr>\n",
       "    <tr>\n",
       "      <th>1</th>\n",
       "      <td>2017-01-02 09:16:00+05:30</td>\n",
       "      <td>893.95</td>\n",
       "      <td>894.85</td>\n",
       "      <td>893.20</td>\n",
       "      <td>893.8</td>\n",
       "      <td>3384.0</td>\n",
       "    </tr>\n",
       "    <tr>\n",
       "      <th>2</th>\n",
       "      <td>2017-01-02 09:17:00+05:30</td>\n",
       "      <td>893.40</td>\n",
       "      <td>893.95</td>\n",
       "      <td>893.00</td>\n",
       "      <td>893.2</td>\n",
       "      <td>2638.0</td>\n",
       "    </tr>\n",
       "    <tr>\n",
       "      <th>3</th>\n",
       "      <td>2017-01-02 09:18:00+05:30</td>\n",
       "      <td>892.25</td>\n",
       "      <td>893.20</td>\n",
       "      <td>891.75</td>\n",
       "      <td>892.5</td>\n",
       "      <td>103839.0</td>\n",
       "    </tr>\n",
       "    <tr>\n",
       "      <th>4</th>\n",
       "      <td>2017-01-02 09:19:00+05:30</td>\n",
       "      <td>893.00</td>\n",
       "      <td>893.65</td>\n",
       "      <td>892.70</td>\n",
       "      <td>893.5</td>\n",
       "      <td>1696.0</td>\n",
       "    </tr>\n",
       "  </tbody>\n",
       "</table>\n",
       "</div>"
      ],
      "text/plain": [
       "                   timestamp    open    high     low  close    volume\n",
       "0  2017-01-02 09:15:00+05:30  892.55  893.10  891.05  893.0    7599.0\n",
       "1  2017-01-02 09:16:00+05:30  893.95  894.85  893.20  893.8    3384.0\n",
       "2  2017-01-02 09:17:00+05:30  893.40  893.95  893.00  893.2    2638.0\n",
       "3  2017-01-02 09:18:00+05:30  892.25  893.20  891.75  892.5  103839.0\n",
       "4  2017-01-02 09:19:00+05:30  893.00  893.65  892.70  893.5    1696.0"
      ]
     },
     "execution_count": 2,
     "metadata": {},
     "output_type": "execute_result"
    }
   ],
   "source": [
    "df = pd.read_csv(\"G:\\Telegram Desktop\\ASIANPAINT__EQ__NSE__NSE__MINUTE.csv\\Asian.csv\")\n",
    "df.head()"
   ]
  },
  {
   "cell_type": "code",
   "execution_count": 3,
   "metadata": {},
   "outputs": [
    {
     "data": {
      "image/png": "[encoded data removed]",
      "text/plain": [
       "<Figure size 720x288 with 1 Axes>"
      ]
     },
     "metadata": {},
     "output_type": "display_data"
    }
   ],
   "source": [
    "sns.set()\n",
    "plt.figure(figsize=(10, 4))\n",
    "plt.title(\"Stock Price\")\n",
    "plt.xlabel(\"Days\")\n",
    "plt.ylabel(\"Close Price USD ($)\")\n",
    "plt.plot(df[\"close\"])\n",
    "plt.show()"
   ]
  },
  {
   "cell_type": "code",
   "execution_count": 11,
   "metadata": {},
   "outputs": [],
   "source": [
    "ap = df['close']"
   ]
  },
  {
   "cell_type": "code",
   "execution_count": 12,
   "metadata": {},
   "outputs": [
    {
     "data": {
      "text/plain": [
       "0    893.0\n",
       "1    893.8\n",
       "2    893.2\n",
       "3    892.5\n",
       "4    893.5\n",
       "Name: close, dtype: float64"
      ]
     },
     "execution_count": 12,
     "metadata": {},
     "output_type": "execute_result"
    }
   ],
   "source": [
    "ap.head()"
   ]
  },
  {
   "cell_type": "code",
   "execution_count": 13,
   "metadata": {},
   "outputs": [],
   "source": [
    "futuredays=25"
   ]
  },
  {
   "cell_type": "code",
   "execution_count": 14,
   "metadata": {},
   "outputs": [],
   "source": [
    "df['prediction'] = df[['close']].shift(-futuredays)"
   ]
  },
  {
   "cell_type": "code",
   "execution_count": 15,
   "metadata": {},
   "outputs": [
    {
     "data": {
      "text/html": [
       "<div>\n",
       "<style scoped>\n",
       "    .dataframe tbody tr th:only-of-type {\n",
       "        vertical-align: middle;\n",
       "    }\n",
       "\n",
       "    .dataframe tbody tr th {\n",
       "        vertical-align: top;\n",
       "    }\n",
       "\n",
       "    .dataframe thead th {\n",
       "        text-align: right;\n",
       "    }\n",
       "</style>\n",
       "<table border=\"1\" class=\"dataframe\">\n",
       "  <thead>\n",
       "    <tr style=\"text-align: right;\">\n",
       "      <th></th>\n",
       "      <th>timestamp</th>\n",
       "      <th>open</th>\n",
       "      <th>high</th>\n",
       "      <th>low</th>\n",
       "      <th>close</th>\n",
       "      <th>volume</th>\n",
       "      <th>prediction</th>\n",
       "    </tr>\n",
       "  </thead>\n",
       "  <tbody>\n",
       "    <tr>\n",
       "      <th>0</th>\n",
       "      <td>2017-01-02 09:15:00+05:30</td>\n",
       "      <td>892.55</td>\n",
       "      <td>893.10</td>\n",
       "      <td>891.05</td>\n",
       "      <td>893.0</td>\n",
       "      <td>7599.0</td>\n",
       "      <td>890.60</td>\n",
       "    </tr>\n",
       "    <tr>\n",
       "      <th>1</th>\n",
       "      <td>2017-01-02 09:16:00+05:30</td>\n",
       "      <td>893.95</td>\n",
       "      <td>894.85</td>\n",
       "      <td>893.20</td>\n",
       "      <td>893.8</td>\n",
       "      <td>3384.0</td>\n",
       "      <td>890.50</td>\n",
       "    </tr>\n",
       "    <tr>\n",
       "      <th>2</th>\n",
       "      <td>2017-01-02 09:17:00+05:30</td>\n",
       "      <td>893.40</td>\n",
       "      <td>893.95</td>\n",
       "      <td>893.00</td>\n",
       "      <td>893.2</td>\n",
       "      <td>2638.0</td>\n",
       "      <td>890.00</td>\n",
       "    </tr>\n",
       "    <tr>\n",
       "      <th>3</th>\n",
       "      <td>2017-01-02 09:18:00+05:30</td>\n",
       "      <td>892.25</td>\n",
       "      <td>893.20</td>\n",
       "      <td>891.75</td>\n",
       "      <td>892.5</td>\n",
       "      <td>103839.0</td>\n",
       "      <td>891.00</td>\n",
       "    </tr>\n",
       "    <tr>\n",
       "      <th>4</th>\n",
       "      <td>2017-01-02 09:19:00+05:30</td>\n",
       "      <td>893.00</td>\n",
       "      <td>893.65</td>\n",
       "      <td>892.70</td>\n",
       "      <td>893.5</td>\n",
       "      <td>1696.0</td>\n",
       "      <td>891.05</td>\n",
       "    </tr>\n",
       "  </tbody>\n",
       "</table>\n",
       "</div>"
      ],
      "text/plain": [
       "                   timestamp    open    high     low  close    volume  \\\n",
       "0  2017-01-02 09:15:00+05:30  892.55  893.10  891.05  893.0    7599.0   \n",
       "1  2017-01-02 09:16:00+05:30  893.95  894.85  893.20  893.8    3384.0   \n",
       "2  2017-01-02 09:17:00+05:30  893.40  893.95  893.00  893.2    2638.0   \n",
       "3  2017-01-02 09:18:00+05:30  892.25  893.20  891.75  892.5  103839.0   \n",
       "4  2017-01-02 09:19:00+05:30  893.00  893.65  892.70  893.5    1696.0   \n",
       "\n",
       "   prediction  \n",
       "0      890.60  \n",
       "1      890.50  \n",
       "2      890.00  \n",
       "3      891.00  \n",
       "4      891.05  "
      ]
     },
     "execution_count": 15,
     "metadata": {},
     "output_type": "execute_result"
    }
   ],
   "source": [
    "df.head()"
   ]
  },
  {
   "cell_type": "code",
   "execution_count": null,
   "metadata": {},
   "outputs": [],
   "source": []
  }
 ],
 "metadata": {
  "kernelspec": {
   "display_name": "Python 3",
   "language": "python",
   "name": "python3"
  },
  "language_info": {
   "codemirror_mode": {
    "name": "ipython",
    "version": 3
   },
   "file_extension": ".py",
   "mimetype": "text/x-python",
   "name": "python",
   "nbconvert_exporter": "python",
   "pygments_lexer": "ipython3",
   "version": "3.8.3"
  }
 },
 "nbformat": 4,
 "nbformat_minor": 4
}
